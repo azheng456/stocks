{
  "nbformat": 4,
  "nbformat_minor": 0,
  "metadata": {
    "colab": {
      "name": "SPY_gain.ipynb",
      "provenance": [],
      "collapsed_sections": [],
      "authorship_tag": "ABX9TyOaAubl7mXb6G6KD8uXET1Q",
      "include_colab_link": true
    },
    "kernelspec": {
      "name": "python3",
      "display_name": "Python 3"
    },
    "language_info": {
      "name": "python"
    }
  },
  "cells": [
    {
      "cell_type": "markdown",
      "metadata": {
        "id": "view-in-github",
        "colab_type": "text"
      },
      "source": [
        "<a href=\"https://colab.research.google.com/github/azheng456/stocks/blob/main/SPY_gain.ipynb\" target=\"_parent\"><img src=\"https://colab.research.google.com/assets/colab-badge.svg\" alt=\"Open In Colab\"/></a>"
      ]
    },
    {
      "cell_type": "code",
      "metadata": {
        "id": "U2uA0GAY1aQ5"
      },
      "source": [
        "import pandas as pd\n",
        "import numpy as np "
      ],
      "execution_count": 2,
      "outputs": []
    },
    {
      "cell_type": "code",
      "metadata": {
        "colab": {
          "base_uri": "https://localhost:8080/",
          "height": 419
        },
        "id": "unRfWtyo1kIS",
        "outputId": "7c3ee755-5958-4e0e-bbb6-3bdf60681c01"
      },
      "source": [
        "#output data\n",
        "spy = pd.read_csv('SPY.csv')\n",
        "spy"
      ],
      "execution_count": 3,
      "outputs": [
        {
          "output_type": "execute_result",
          "data": {
            "text/html": [
              "<div>\n",
              "<style scoped>\n",
              "    .dataframe tbody tr th:only-of-type {\n",
              "        vertical-align: middle;\n",
              "    }\n",
              "\n",
              "    .dataframe tbody tr th {\n",
              "        vertical-align: top;\n",
              "    }\n",
              "\n",
              "    .dataframe thead th {\n",
              "        text-align: right;\n",
              "    }\n",
              "</style>\n",
              "<table border=\"1\" class=\"dataframe\">\n",
              "  <thead>\n",
              "    <tr style=\"text-align: right;\">\n",
              "      <th></th>\n",
              "      <th>Date</th>\n",
              "      <th>Open</th>\n",
              "      <th>High</th>\n",
              "      <th>Low</th>\n",
              "      <th>Close</th>\n",
              "      <th>Adj Close</th>\n",
              "      <th>Volume</th>\n",
              "    </tr>\n",
              "  </thead>\n",
              "  <tbody>\n",
              "    <tr>\n",
              "      <th>0</th>\n",
              "      <td>2016-05-17</td>\n",
              "      <td>206.460007</td>\n",
              "      <td>206.800003</td>\n",
              "      <td>204.229996</td>\n",
              "      <td>204.850006</td>\n",
              "      <td>186.340057</td>\n",
              "      <td>114924900</td>\n",
              "    </tr>\n",
              "    <tr>\n",
              "      <th>1</th>\n",
              "      <td>2016-05-18</td>\n",
              "      <td>204.440002</td>\n",
              "      <td>206.300003</td>\n",
              "      <td>203.630005</td>\n",
              "      <td>204.910004</td>\n",
              "      <td>186.394577</td>\n",
              "      <td>120062100</td>\n",
              "    </tr>\n",
              "    <tr>\n",
              "      <th>2</th>\n",
              "      <td>2016-05-19</td>\n",
              "      <td>204.059998</td>\n",
              "      <td>204.539993</td>\n",
              "      <td>202.779999</td>\n",
              "      <td>204.199997</td>\n",
              "      <td>185.748718</td>\n",
              "      <td>115430500</td>\n",
              "    </tr>\n",
              "    <tr>\n",
              "      <th>3</th>\n",
              "      <td>2016-05-20</td>\n",
              "      <td>204.919998</td>\n",
              "      <td>206.100006</td>\n",
              "      <td>204.860001</td>\n",
              "      <td>205.490005</td>\n",
              "      <td>186.922195</td>\n",
              "      <td>104990400</td>\n",
              "    </tr>\n",
              "    <tr>\n",
              "      <th>4</th>\n",
              "      <td>2016-05-23</td>\n",
              "      <td>205.509995</td>\n",
              "      <td>205.839996</td>\n",
              "      <td>204.990005</td>\n",
              "      <td>205.210007</td>\n",
              "      <td>186.667496</td>\n",
              "      <td>58682600</td>\n",
              "    </tr>\n",
              "    <tr>\n",
              "      <th>...</th>\n",
              "      <td>...</td>\n",
              "      <td>...</td>\n",
              "      <td>...</td>\n",
              "      <td>...</td>\n",
              "      <td>...</td>\n",
              "      <td>...</td>\n",
              "      <td>...</td>\n",
              "    </tr>\n",
              "    <tr>\n",
              "      <th>1253</th>\n",
              "      <td>2021-05-10</td>\n",
              "      <td>422.500000</td>\n",
              "      <td>422.739990</td>\n",
              "      <td>417.809998</td>\n",
              "      <td>417.940002</td>\n",
              "      <td>417.940002</td>\n",
              "      <td>81852400</td>\n",
              "    </tr>\n",
              "    <tr>\n",
              "      <th>1254</th>\n",
              "      <td>2021-05-11</td>\n",
              "      <td>413.100006</td>\n",
              "      <td>415.269989</td>\n",
              "      <td>410.059998</td>\n",
              "      <td>414.209991</td>\n",
              "      <td>414.209991</td>\n",
              "      <td>116888000</td>\n",
              "    </tr>\n",
              "    <tr>\n",
              "      <th>1255</th>\n",
              "      <td>2021-05-12</td>\n",
              "      <td>411.230011</td>\n",
              "      <td>412.589996</td>\n",
              "      <td>404.000000</td>\n",
              "      <td>405.410004</td>\n",
              "      <td>405.410004</td>\n",
              "      <td>134811000</td>\n",
              "    </tr>\n",
              "    <tr>\n",
              "      <th>1256</th>\n",
              "      <td>2021-05-13</td>\n",
              "      <td>407.070007</td>\n",
              "      <td>412.350006</td>\n",
              "      <td>407.019989</td>\n",
              "      <td>410.279999</td>\n",
              "      <td>410.279999</td>\n",
              "      <td>106394000</td>\n",
              "    </tr>\n",
              "    <tr>\n",
              "      <th>1257</th>\n",
              "      <td>2021-05-14</td>\n",
              "      <td>413.209991</td>\n",
              "      <td>417.489990</td>\n",
              "      <td>413.179993</td>\n",
              "      <td>416.579987</td>\n",
              "      <td>416.579987</td>\n",
              "      <td>82123100</td>\n",
              "    </tr>\n",
              "  </tbody>\n",
              "</table>\n",
              "<p>1258 rows × 7 columns</p>\n",
              "</div>"
            ],
            "text/plain": [
              "            Date        Open        High  ...       Close   Adj Close     Volume\n",
              "0     2016-05-17  206.460007  206.800003  ...  204.850006  186.340057  114924900\n",
              "1     2016-05-18  204.440002  206.300003  ...  204.910004  186.394577  120062100\n",
              "2     2016-05-19  204.059998  204.539993  ...  204.199997  185.748718  115430500\n",
              "3     2016-05-20  204.919998  206.100006  ...  205.490005  186.922195  104990400\n",
              "4     2016-05-23  205.509995  205.839996  ...  205.210007  186.667496   58682600\n",
              "...          ...         ...         ...  ...         ...         ...        ...\n",
              "1253  2021-05-10  422.500000  422.739990  ...  417.940002  417.940002   81852400\n",
              "1254  2021-05-11  413.100006  415.269989  ...  414.209991  414.209991  116888000\n",
              "1255  2021-05-12  411.230011  412.589996  ...  405.410004  405.410004  134811000\n",
              "1256  2021-05-13  407.070007  412.350006  ...  410.279999  410.279999  106394000\n",
              "1257  2021-05-14  413.209991  417.489990  ...  416.579987  416.579987   82123100\n",
              "\n",
              "[1258 rows x 7 columns]"
            ]
          },
          "metadata": {},
          "execution_count": 3
        }
      ]
    },
    {
      "cell_type": "code",
      "metadata": {
        "colab": {
          "base_uri": "https://localhost:8080/"
        },
        "id": "lJBTGAMqxbnp",
        "outputId": "e19d16bd-c7cb-4e6b-fdb6-ed5d5fe037f5"
      },
      "source": [
        "#general info, test to see initial data\n",
        "pos = 0\n",
        "neg = 0\n",
        "for x in range(len(spy[\"Close\"])-2):\n",
        "    if ((spy[\"Close\"][x+1]-spy[\"Close\"][x])/spy[\"Close\"][x]*100 > 0):\n",
        "      pos+=1\n",
        "    else:\n",
        "      neg+=1\n",
        "print(\"In the past 5 years, the SPY had \" + str(pos) +\n",
        "      \" positive days and \" + str(neg) + \" negative days resulting in a \"\n",
        "      + str(round(pos/(pos+neg)*100,1)) + \" percent chance of a green day.\")"
      ],
      "execution_count": 15,
      "outputs": [
        {
          "output_type": "stream",
          "name": "stdout",
          "text": [
            "In the past 5 years, the SPY had 706 positive days and 550 negative days resulting in a 56.2 percent chance of a green day.\n"
          ]
        }
      ]
    },
    {
      "cell_type": "markdown",
      "metadata": {
        "id": "G9URa_WFrT-0"
      },
      "source": [
        "Let's test 4 SPY  ranges to see the probability of the following day becoming positive: 1 to 2%, 0 to 1%, 0 to -1%, and -1 to -2%"
      ]
    },
    {
      "cell_type": "code",
      "metadata": {
        "colab": {
          "base_uri": "https://localhost:8080/"
        },
        "id": "TtX0JMzIuMcD",
        "outputId": "751ff808-92a5-4298-8018-1c8a316d9b4d"
      },
      "source": [
        "pos = 0\n",
        "neg = 0\n",
        "for x in range(len(spy[\"Close\"])-2):\n",
        "  if (spy[\"Close\"][x+1]>= 1.01*spy[\"Close\"][x] and spy[\"Close\"][x+1]<= 1.02*spy[\"Close\"][x]):\n",
        "    if ((spy[\"Close\"][x+2]-spy[\"Close\"][x+1])/spy[\"Close\"][x+1]*100 > 0):\n",
        "      pos+=1\n",
        "    else:\n",
        "      neg+=1\n",
        "print(\"For days with a SPY gain between 1 and 2%, the next day had \" + str(pos) +\n",
        "      \" positive days and \" + str(neg) + \" negative days in the past 5 years, \"+\n",
        "      \" resulting in a \"\n",
        "      + str(round(pos/(pos+neg)*100,1)) + \" percent chance of a green day.\")\n"
      ],
      "execution_count": 16,
      "outputs": [
        {
          "output_type": "stream",
          "name": "stdout",
          "text": [
            "For days with a SPY gain between 1 and 2%, the next day had 70 positive days and 53 negative days in the past 5 years,  resulting in a 56.9 percent chance of a green day.\n"
          ]
        }
      ]
    },
    {
      "cell_type": "code",
      "metadata": {
        "colab": {
          "base_uri": "https://localhost:8080/"
        },
        "id": "hVdLNg3dxQQh",
        "outputId": "3143b343-8553-46f2-863b-ec18e76ae730"
      },
      "source": [
        "pos = 0\n",
        "neg = 0\n",
        "for x in range(len(spy[\"Close\"])-2):\n",
        "  if (spy[\"Close\"][x+1]>= spy[\"Close\"][x] and spy[\"Close\"][x+1]<= 1.01*spy[\"Close\"][x]):\n",
        "    if ((spy[\"Close\"][x+2]-spy[\"Close\"][x+1])/spy[\"Close\"][x+1]*100 > 0):\n",
        "      pos+=1\n",
        "    else:\n",
        "      neg+=1\n",
        "print(\"For days with a SPY gain between 0 and 1%, the next day had \" + str(pos) +\n",
        "      \" positive days and \" + str(neg) + \" negative days in the past 5 years,\"+\n",
        "      \" resulting in a \"\n",
        "      + str(round(pos/(pos+neg)*100,1)) + \" percent chance of a green day.\")"
      ],
      "execution_count": 18,
      "outputs": [
        {
          "output_type": "stream",
          "name": "stdout",
          "text": [
            "For days with a SPY gain between 0 and 1%, the next day had 302 positive days and 257 negative days in the past 5 years, resulting in a 54.0 percent chance of a green day.\n"
          ]
        }
      ]
    },
    {
      "cell_type": "code",
      "metadata": {
        "colab": {
          "base_uri": "https://localhost:8080/"
        },
        "id": "WaSmvCL7yYGU",
        "outputId": "4356cc2a-1ab9-465b-cb20-cab5c65b312d"
      },
      "source": [
        "pos = 0\n",
        "neg = 0\n",
        "for x in range(len(spy[\"Close\"])-2):\n",
        "  if (spy[\"Close\"][x+1]<= spy[\"Close\"][x] and spy[\"Close\"][x+1]>= 0.99*spy[\"Close\"][x]):\n",
        "    if ((spy[\"Close\"][x+2]-spy[\"Close\"][x+1])/spy[\"Close\"][x+1]*100 > 0):\n",
        "      pos+=1\n",
        "    else:\n",
        "      neg+=1\n",
        "print(\"For days with a SPY loss between 0 and 1%, the next day had \" + str(pos) +\n",
        "      \" positive days and \" + str(neg) + \" negative days in the past 5 years,\"+\n",
        "      \" resulting in a \"\n",
        "      + str(round(pos/(pos+neg)*100,1)) + \" percent chance of a green day.\")"
      ],
      "execution_count": 17,
      "outputs": [
        {
          "output_type": "stream",
          "name": "stdout",
          "text": [
            "For days with a SPY loss between 0 and 1%, the next day had 259 positive days and 182 negative days in the past 5 years, resulting in a 58.7 percent chance of a green day.\n"
          ]
        }
      ]
    },
    {
      "cell_type": "code",
      "metadata": {
        "colab": {
          "base_uri": "https://localhost:8080/"
        },
        "id": "onoBHLZiyixO",
        "outputId": "410cf6d1-409c-4b76-e34e-b3853e20e0e9"
      },
      "source": [
        "pos = 0\n",
        "neg = 0\n",
        "for x in range(len(spy[\"Close\"])-2):\n",
        "  if (spy[\"Close\"][x+1]<= 0.99*spy[\"Close\"][x] and spy[\"Close\"][x+1]>= 0.98*spy[\"Close\"][x]):\n",
        "    if ((spy[\"Close\"][x+2]-spy[\"Close\"][x+1])/spy[\"Close\"][x+1]*100 > 0):\n",
        "      pos+=1\n",
        "    else:\n",
        "      neg+=1\n",
        "print(\"For days with a SPY loss between 1 and 2%, the next day had \" + str(pos) +\n",
        "      \" positive days and \" + str(neg) + \" negative days in the past 5 years,\"+\n",
        "      \" resulting in a \"\n",
        "      + str(round(pos/(pos+neg)*100,1)) + \" percent chance of a green day.\")\n"
      ],
      "execution_count": 19,
      "outputs": [
        {
          "output_type": "stream",
          "name": "stdout",
          "text": [
            "For days with a SPY loss between 1 and 2%, the next day had 32 positive days and 28 negative days in the past 5 years, resulting in a 53.3 percent chance of a green day.\n"
          ]
        }
      ]
    },
    {
      "cell_type": "markdown",
      "metadata": {
        "id": "AdIsThoDrrW5"
      },
      "source": [
        "Interestingly enough, the optimal range between these 4 was a loss between 0 and 1%. This led to a 58.7% chance of a following green day. It was then followed by the ranges 1 to 2%, 0 to 1% and -1 to -2% came last. All 4 ranges, however, still had a >50% chance of a green day."
      ]
    },
    {
      "cell_type": "markdown",
      "metadata": {
        "id": "u7LN6rujsAt5"
      },
      "source": [
        "Now we want to examine the entire dataset (so include days with a bigger change than 2%) and break the ranges even smaller to find the optimal predictor of a following positive SPY day."
      ]
    },
    {
      "cell_type": "markdown",
      "metadata": {
        "id": "CK_Q9JvMzAPx"
      },
      "source": [
        "We will make an array of small increments and iterate through the interval to find the increment that results in the highest percentage chance of a positive day."
      ]
    },
    {
      "cell_type": "code",
      "metadata": {
        "id": "2EJdInDKy4yF",
        "colab": {
          "base_uri": "https://localhost:8080/"
        },
        "outputId": "f5a95703-4dbd-416b-937b-a6bd91e722ce"
      },
      "source": [
        "percent = 0\n",
        "ratios = [0, 0.95, 0.96, 0.97, 0.975, 0.98, 0.985, 0.99, 0.995, 1, 1.005, 1.01, 1.015, 1.02, 1.025, 1.03, 1.04, 1.05, 2]\n",
        "for y in range(len(ratios)-1): #iterate through ratios array\n",
        "    for x in range(len(spy[\"Close\"])-2): #iterate through SPY data\n",
        "      #if spy close of next day is between ratios[y] and ratios[y+1]\n",
        "      if (spy[\"Close\"][x+1]>= ratios[y]*spy[\"Close\"][x] and spy[\"Close\"][x+1]<= ratios[y+1]*spy[\"Close\"][x]):\n",
        "        if ((spy[\"Close\"][x+2]-spy[\"Close\"][x+1]) > 0):\n",
        "          pos+=1\n",
        "        else:\n",
        "          neg+=1\n",
        "      if pos/(neg+pos) > percent: #if ratio is max\n",
        "        percent = pos/(pos+neg)\n",
        "        r1 = (ratios[y] - 1)*100\n",
        "        r2 = (ratios[y+1] - 1)*100\n",
        "\n",
        "print (\"The highest percentage of the next \" +\n",
        "      \"day being positive was if the previous day had a change of between \" + str(round(r1,2)) +\n",
        "       \"% and \" + str(round(r2,2)) + \"%, with a probability of \" + str(round(percent*100,1)) + \"%.\") "
      ],
      "execution_count": 27,
      "outputs": [
        {
          "output_type": "stream",
          "name": "stdout",
          "text": [
            "The highest percentage of the next day being positive was if the previous day had a change of between -0.5% and 0%, with a probability of 56.4%.\n"
          ]
        }
      ]
    },
    {
      "cell_type": "markdown",
      "metadata": {
        "id": "ghXMHtw2sUzn"
      },
      "source": [
        "Our conclusion finds that with our set ranges and with this 5 year dataset from May 17, 2016 to May 14, 2021, the highest likelihood of a following positive day was if the previous day was between 0 and -0.5%, or a very slight loss. This had a positive ratio of 1.29."
      ]
    }
  ]
}